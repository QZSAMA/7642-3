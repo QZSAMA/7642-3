{
 "cells": [
  {
   "cell_type": "code",
   "execution_count": 5,
   "id": "878038f3",
   "metadata": {},
   "outputs": [
    {
     "name": "stderr",
     "output_type": "stream",
     "text": [
      "G:\\anaconda3\\lib\\site-packages\\sklearn\\cluster\\_kmeans.py:870: FutureWarning: The default value of `n_init` will change from 10 to 'auto' in 1.4. Set the value of `n_init` explicitly to suppress the warning\n",
      "  warnings.warn(\n",
      "G:\\anaconda3\\lib\\site-packages\\sklearn\\cluster\\_kmeans.py:1382: UserWarning: KMeans is known to have a memory leak on Windows with MKL, when there are less chunks than available threads. You can avoid it by setting the environment variable OMP_NUM_THREADS=8.\n",
      "  warnings.warn(\n"
     ]
    }
   ],
   "source": [
    "from sklearn.cluster import KMeans, AgglomerativeClustering\n",
    "\n",
    "import numpy as np\n",
    "import pandas as pd\n",
    "from sklearn.datasets import load_digits\n",
    "from sklearn.preprocessing import StandardScaler\n",
    "from sklearn.decomposition import PCA, FastICA\n",
    "from sklearn.random_projection import GaussianRandomProjection\n",
    "from sklearn.model_selection import train_test_split\n",
    "from sklearn.neural_network import MLPClassifier\n",
    "from sklearn.metrics import accuracy_score\n",
    "\n",
    "# Load dataset\n",
    "digits = load_digits()\n",
    "X = digits.data\n",
    "y = digits.target\n",
    "\n",
    "# Standardize the dataset\n",
    "scaler = StandardScaler()\n",
    "X_scaled = scaler.fit_transform(X)\n",
    "\n",
    "# Apply clustering algorithms\n",
    "kmeans = KMeans(n_clusters=10, random_state=42)\n",
    "agglo = AgglomerativeClustering(n_clusters=10)\n",
    "\n",
    "kmeans_clusters = kmeans.fit_predict(X_scaled)\n",
    "agglo_clusters = agglo.fit_predict(X_scaled)\n",
    "\n",
    "# Add cluster labels as new features to the dataset\n",
    "X_kmeans = np.column_stack((X_scaled, kmeans_clusters))\n",
    "X_agglo = np.column_stack((X_scaled, agglo_clusters))\n",
    "\n",
    "# Split the datasets into training and testing sets\n",
    "X_train_kmeans, X_test_kmeans, y_train_kmeans, y_test_kmeans = train_test_split(X_kmeans, y, test_size=0.2, random_state=42)\n",
    "X_train_agglo, X_test_agglo, y_train_agglo, y_test_agglo = train_test_split(X_agglo, y, test_size=0.2, random_state=42)\n",
    "\n",
    "# # Train and evaluate on KMeans augmented data\n",
    "# nn.fit(X_train_kmeans, y_train_kmeans)\n",
    "# y_pred_kmeans = nn.predict(X_test_kmeans)\n",
    "# accuracy_kmeans = accuracy_score(y_test_kmeans, y_pred_kmeans)\n",
    "\n",
    "# # Train and evaluate on AgglomerativeClustering augmented data\n",
    "# nn.fit(X_train_agglo, y_train_agglo)\n",
    "# y_pred_agglo = nn.predict(X_test_agglo)\n",
    "# accuracy_agglo = accuracy_score(y_test_agglo, y_pred_agglo)\n",
    "\n",
    "# # Print results\n",
    "# accuracy_kmeans, accuracy_agglo"
   ]
  },
  {
   "cell_type": "code",
   "execution_count": 6,
   "id": "8917ae51",
   "metadata": {},
   "outputs": [
    {
     "data": {
      "text/plain": [
       "(0.9722222222222222, 0.9694444444444444)"
      ]
     },
     "execution_count": 6,
     "metadata": {},
     "output_type": "execute_result"
    }
   ],
   "source": [
    "# Define and train neural network with fewer iterations and smaller hidden layer\n",
    "nn = MLPClassifier(hidden_layer_sizes=(50,), max_iter=200, random_state=42)\n",
    "\n",
    "# Train and evaluate on KMeans augmented data\n",
    "nn.fit(X_train_kmeans, y_train_kmeans)\n",
    "y_pred_kmeans = nn.predict(X_test_kmeans)\n",
    "accuracy_kmeans = accuracy_score(y_test_kmeans, y_pred_kmeans)\n",
    "\n",
    "# Train and evaluate on AgglomerativeClustering augmented data\n",
    "nn.fit(X_train_agglo, y_train_agglo)\n",
    "y_pred_agglo = nn.predict(X_test_agglo)\n",
    "accuracy_agglo = accuracy_score(y_test_agglo, y_pred_agglo)\n",
    "\n",
    "# Print results\n",
    "accuracy_kmeans, accuracy_agglo"
   ]
  },
  {
   "cell_type": "code",
   "execution_count": null,
   "id": "22434078",
   "metadata": {},
   "outputs": [],
   "source": []
  }
 ],
 "metadata": {
  "kernelspec": {
   "display_name": "Python 3 (ipykernel)",
   "language": "python",
   "name": "python3"
  },
  "language_info": {
   "codemirror_mode": {
    "name": "ipython",
    "version": 3
   },
   "file_extension": ".py",
   "mimetype": "text/x-python",
   "name": "python",
   "nbconvert_exporter": "python",
   "pygments_lexer": "ipython3",
   "version": "3.10.9"
  }
 },
 "nbformat": 4,
 "nbformat_minor": 5
}
