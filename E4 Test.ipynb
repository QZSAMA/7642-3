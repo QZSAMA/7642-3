{
 "cells": [
  {
   "cell_type": "code",
   "execution_count": 1,
   "id": "ed0ca693",
   "metadata": {},
   "outputs": [
    {
     "name": "stderr",
     "output_type": "stream",
     "text": [
      "G:\\anaconda3\\lib\\site-packages\\sklearn\\decomposition\\_fastica.py:542: FutureWarning: Starting in v1.3, whiten='unit-variance' will be used by default.\n",
      "  warnings.warn(\n",
      "G:\\anaconda3\\lib\\site-packages\\sklearn\\neural_network\\_multilayer_perceptron.py:684: ConvergenceWarning: Stochastic Optimizer: Maximum iterations (300) reached and the optimization hasn't converged yet.\n",
      "  warnings.warn(\n"
     ]
    },
    {
     "name": "stdout",
     "output_type": "stream",
     "text": [
      "Accuracy with PCA: 0.9777777777777777\n",
      "Accuracy with ICA: 0.9388888888888889\n",
      "Accuracy with RP: 0.9555555555555556\n"
     ]
    }
   ],
   "source": [
    "import numpy as np\n",
    "import pandas as pd\n",
    "from sklearn.datasets import load_digits\n",
    "from sklearn.preprocessing import StandardScaler\n",
    "from sklearn.decomposition import PCA, FastICA\n",
    "from sklearn.random_projection import GaussianRandomProjection\n",
    "from sklearn.model_selection import train_test_split\n",
    "from sklearn.neural_network import MLPClassifier\n",
    "from sklearn.metrics import accuracy_score\n",
    "\n",
    "# Load dataset\n",
    "digits = load_digits()\n",
    "X = digits.data\n",
    "y = digits.target\n",
    "\n",
    "# Standardize the dataset\n",
    "scaler = StandardScaler()\n",
    "X_scaled = scaler.fit_transform(X)\n",
    "\n",
    "# Dimensionality reduction techniques\n",
    "pca = PCA(n_components=10)\n",
    "ica = FastICA(n_components=10, random_state=42)\n",
    "rp = GaussianRandomProjection(n_components=30, random_state=42)\n",
    "\n",
    "X_pca = pca.fit_transform(X_scaled)\n",
    "X_ica = ica.fit_transform(X_scaled)\n",
    "X_rp = rp.fit_transform(X_scaled)\n",
    "\n",
    "# Split the datasets into training and testing sets\n",
    "X_train_orig, X_test_orig, y_train_orig, y_test_orig = train_test_split(X_scaled, y, test_size=0.3, random_state=42)\n",
    "X_train_pca, X_test_pca, y_train_pca, y_test_pca = train_test_split(X_pca, y, test_size=0.3, random_state=42)\n",
    "X_train_ica, X_test_ica, y_train_ica, y_test_ica = train_test_split(X_ica, y, test_size=0.3, random_state=42)\n",
    "X_train_rp, X_test_rp, y_train_rp, y_test_rp = train_test_split(X_rp, y, test_size=0.3, random_state=42)\n",
    "\n",
    "# Train and evaluate on original data\n",
    "nn0 = MLPClassifier(hidden_layer_sizes=(100,), max_iter=300, random_state=42)\n",
    "nn0.fit(X_train_orig, y_train_orig)\n",
    "y_pred_orig = nn0.predict(X_test_orig)\n",
    "accuracy_pca = accuracy_score(y_test_orig, y_pred_orig)\n",
    "\n",
    "# Train and evaluate on PCA reduced data\n",
    "nn1 = MLPClassifier(hidden_layer_sizes=(100,), max_iter=300, random_state=42)\n",
    "nn1.fit(X_train_pca, y_train_pca)\n",
    "y_pred_pca = nn1.predict(X_test_pca)\n",
    "accuracy_pca = accuracy_score(y_test_pca, y_pred_pca)\n",
    "\n",
    "# Train and evaluate on ICA reduced data\n",
    "nn2 = MLPClassifier(hidden_layer_sizes=(100,), max_iter=300, random_state=42)\n",
    "nn2.fit(X_train_ica, y_train_ica)\n",
    "y_pred_ica = nn2.predict(X_test_ica)\n",
    "accuracy_ica = accuracy_score(y_test_ica, y_pred_ica)\n",
    "\n",
    "# Train and evaluate on RP reduced data\n",
    "nn3 = MLPClassifier(hidden_layer_sizes=(100,), max_iter=300, random_state=42)\n",
    "nn3.fit(X_train_rp, y_train_rp)\n",
    "y_pred_rp = nn3.predict(X_test_rp)\n",
    "accuracy_rp = accuracy_score(y_test_rp, y_pred_rp)\n",
    "\n",
    "# Print results\n",
    "print(f'Accuracy with PCA: {accuracy_pca}')\n",
    "print(f'Accuracy with ICA: {accuracy_ica}')\n",
    "print(f'Accuracy with RP: {accuracy_rp}')"
   ]
  },
  {
   "cell_type": "code",
   "execution_count": null,
   "id": "9be45931",
   "metadata": {},
   "outputs": [],
   "source": []
  }
 ],
 "metadata": {
  "kernelspec": {
   "display_name": "Python 3 (ipykernel)",
   "language": "python",
   "name": "python3"
  },
  "language_info": {
   "codemirror_mode": {
    "name": "ipython",
    "version": 3
   },
   "file_extension": ".py",
   "mimetype": "text/x-python",
   "name": "python",
   "nbconvert_exporter": "python",
   "pygments_lexer": "ipython3",
   "version": "3.10.9"
  }
 },
 "nbformat": 4,
 "nbformat_minor": 5
}
